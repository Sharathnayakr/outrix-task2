{
 "cells": [
  {
   "cell_type": "code",
   "execution_count": 1,
   "id": "59c60484-dcbf-49dd-aea4-5f4d5202276f",
   "metadata": {},
   "outputs": [],
   "source": [
    "import json"
   ]
  },
  {
   "cell_type": "code",
   "execution_count": 27,
   "id": "e30ec9b3-9472-4a5c-9953-3e1ca6bf700c",
   "metadata": {},
   "outputs": [],
   "source": [
    "with open(r\"\\Users\\user\\Desktop\\outrix\\questions.json\") as f:\n",
    "    data = json.load(f)"
   ]
  },
  {
   "cell_type": "code",
   "execution_count": 29,
   "id": "b9665f6e-638e-4357-9ea6-db0b0e929af1",
   "metadata": {},
   "outputs": [
    {
     "name": "stdout",
     "output_type": "stream",
     "text": [
      "[{'question': 'What is the capital of France?', 'options': ['Berlin', 'Madrid', 'Paris', 'Rome'], 'answer': 'Paris'}, {'question': 'Which planet is known as the Red Planet?', 'options': ['Earth', 'Mars', 'Jupiter', 'Venus'], 'answer': 'Mars'}, {'question': 'What is the largest ocean on Earth?', 'options': ['Atlantic Ocean', 'Indian Ocean', 'Arctic Ocean', 'Pacific Ocean'], 'answer': 'Pacific Ocean'}, {'question': 'What is the chemical symbol for water?', 'options': ['H2O', 'O2', 'CO2', 'N2'], 'answer': 'H2O'}]\n"
     ]
    }
   ],
   "source": [
    "print(data)"
   ]
  },
  {
   "cell_type": "code",
   "execution_count": null,
   "id": "d78b0124-d8be-42c2-92eb-0d517d194150",
   "metadata": {},
   "outputs": [
    {
     "name": "stdout",
     "output_type": "stream",
     "text": [
      "Welcome to the Quiz!\n",
      "--------------------\n",
      "\n",
      "Question 1: What is the chemical symbol for water?\n",
      "  a. CO2\n",
      "  b. H2O\n",
      "  c. N2\n",
      "  d. O2\n"
     ]
    }
   ],
   "source": [
    "import json\n",
    "import random\n",
    "\n",
    "def run_quiz():\n",
    "    \"\"\"Runs a command-line quiz application.\"\"\"\n",
    "    try:\n",
    "        with open(r\"\\Users\\user\\Desktop\\outrix\\questions.json\") as file:\n",
    "            questions = json.load(file)\n",
    "    except FileNotFoundError:\n",
    "        print(\"Error: 'questions.json' file not found.\")\n",
    "        return\n",
    "\n",
    "    random.shuffle(questions)\n",
    "    score = 0\n",
    "\n",
    "    print(\"Welcome to the Quiz!\")\n",
    "    print(\"--------------------\")\n",
    "\n",
    "    for i, q in enumerate(questions):\n",
    "        print(f\"\\nQuestion {i + 1}: {q['question']}\")\n",
    "        \n",
    "        # Display options\n",
    "        options = q['options']\n",
    "        random.shuffle(options)  # Shuffle options for each question\n",
    "        for j, option in enumerate(options):\n",
    "            print(f\"  {chr(97 + j)}. {option}\")\n",
    "\n",
    "        # Get user input\n",
    "        user_answer = input(\"Your answer (e.g., 'a', 'b', 'c'): \").lower()\n",
    "\n",
    "        # Check the answer\n",
    "        try:\n",
    "            selected_option = options[ord(user_answer) - ord('a')]\n",
    "            if selected_option == q['answer']:\n",
    "                print(\"Correct!\")\n",
    "                score += 1\n",
    "            else:\n",
    "                print(f\"Incorrect. The correct answer was: {q['answer']}\")\n",
    "        except (IndexError, ValueError):\n",
    "            print(f\"Invalid input. The correct answer was: {q['answer']}\")\n",
    "\n",
    "    print(\"\\n--------------------\")\n",
    "    print(\"Quiz finished!\")\n",
    "    print(f\"Your final score is: {score}/{len(questions)}\")\n",
    "\n",
    "if __name__ == \"__main__\":\n",
    "    run_quiz()"
   ]
  },
  {
   "cell_type": "code",
   "execution_count": null,
   "id": "af1ebb7b-72c0-431d-b3ab-cfafcfc5f9b4",
   "metadata": {},
   "outputs": [],
   "source": []
  }
 ],
 "metadata": {
  "kernelspec": {
   "display_name": "Python 3 (ipykernel)",
   "language": "python",
   "name": "python3"
  },
  "language_info": {
   "codemirror_mode": {
    "name": "ipython",
    "version": 3
   },
   "file_extension": ".py",
   "mimetype": "text/x-python",
   "name": "python",
   "nbconvert_exporter": "python",
   "pygments_lexer": "ipython3",
   "version": "3.12.4"
  }
 },
 "nbformat": 4,
 "nbformat_minor": 5
}
